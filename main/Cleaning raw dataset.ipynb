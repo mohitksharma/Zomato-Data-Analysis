{
 "cells": [
  {
   "cell_type": "code",
   "execution_count": 1,
   "metadata": {},
   "outputs": [],
   "source": [
    "import pandas as pd\n",
    "import numpy as np\n",
    "import matplotlib.pyplot as plt\n",
    "import seaborn as sb\n",
    "import re\n",
    "%matplotlib inline"
   ]
  },
  {
   "cell_type": "code",
   "execution_count": 2,
   "metadata": {},
   "outputs": [],
   "source": [
    "def print_full(x):\n",
    "    pd.set_option('display.max_rows', len(x))\n",
    "    print(x)\n",
    "    pd.reset_option('display.max_rows')"
   ]
  },
  {
   "cell_type": "code",
   "execution_count": 3,
   "metadata": {},
   "outputs": [],
   "source": [
    "mum_df = pd.read_csv('../datasets/mumbai.csv')"
   ]
  },
  {
   "cell_type": "code",
   "execution_count": 4,
   "metadata": {},
   "outputs": [],
   "source": [
    "del_df = pd.read_csv('../datasets/delhi.csv')"
   ]
  },
  {
   "cell_type": "code",
   "execution_count": 5,
   "metadata": {},
   "outputs": [],
   "source": [
    "met_df = pd.concat([mum_df, del_df],ignore_index=  True)"
   ]
  },
  {
   "cell_type": "code",
   "execution_count": 6,
   "metadata": {},
   "outputs": [
    {
     "name": "stdout",
     "output_type": "stream",
     "text": [
      "<class 'pandas.core.frame.DataFrame'>\n",
      "RangeIndex: 15440 entries, 0 to 15439\n",
      "Data columns (total 19 columns):\n",
      " #   Column                 Non-Null Count  Dtype  \n",
      "---  ------                 --------------  -----  \n",
      " 0   address                15440 non-null  object \n",
      " 1   area                   15440 non-null  object \n",
      " 2   book_table             15440 non-null  int64  \n",
      " 3   can_order_via_zomato   15440 non-null  object \n",
      " 4   cost_for_two           15437 non-null  object \n",
      " 5   cuisine                15440 non-null  object \n",
      " 6   delivery_reviews       9525 non-null   object \n",
      " 7   dining_reviews         8305 non-null   float64\n",
      " 8   discount               2039 non-null   float64\n",
      " 9   featured_in            801 non-null    object \n",
      " 10  has_menu_available     15440 non-null  int64  \n",
      " 11  location               0 non-null      float64\n",
      " 12  min_amnt_for_discount  0 non-null      float64\n",
      " 13  rating                 12093 non-null  object \n",
      " 14  res_link               15440 non-null  object \n",
      " 15  rest_name              15440 non-null  object \n",
      " 16  rest_type              15440 non-null  object \n",
      " 17  review_rating          13461 non-null  object \n",
      " 18  reviews                7306 non-null   object \n",
      "dtypes: float64(4), int64(2), object(13)\n",
      "memory usage: 2.2+ MB\n"
     ]
    }
   ],
   "source": [
    "met_df.info()"
   ]
  },
  {
   "cell_type": "code",
   "execution_count": 7,
   "metadata": {},
   "outputs": [],
   "source": [
    "def clean_cost(cost):\n",
    "    cost_tem = ''\n",
    "    tem = re.findall(\"\\\\d+\", cost)\n",
    "    return cost_tem.join(tem)"
   ]
  },
  {
   "cell_type": "code",
   "execution_count": 8,
   "metadata": {},
   "outputs": [],
   "source": [
    "met_df['cost_for_two'] = met_df['cost_for_two'].astype(str)\n",
    "met_df['cost_for_two'] = met_df['cost_for_two'].apply(lambda x: x.replace(\",\",\"\"))\n",
    "met_df['cost_for_two'] = met_df['cost_for_two'].apply(clean_cost)"
   ]
  },
  {
   "cell_type": "code",
   "execution_count": 9,
   "metadata": {},
   "outputs": [],
   "source": [
    "def toFloat(cost):\n",
    "    try:\n",
    "        return float(cost)\n",
    "    except ValueError:\n",
    "        return 0"
   ]
  },
  {
   "cell_type": "code",
   "execution_count": 10,
   "metadata": {},
   "outputs": [],
   "source": [
    "met_df['cost_for_two'] = met_df['cost_for_two'].apply(lambda x: toFloat(x))"
   ]
  },
  {
   "cell_type": "code",
   "execution_count": 11,
   "metadata": {},
   "outputs": [],
   "source": [
    "met_df['delivery_reviews'] = met_df['delivery_reviews'].astype(str)\n",
    "met_df['delivery_reviews'] = met_df['delivery_reviews'].apply(lambda x: x.replace(\",\", \"\"))"
   ]
  },
  {
   "cell_type": "code",
   "execution_count": 12,
   "metadata": {},
   "outputs": [],
   "source": [
    "met_df['delivery_reviews'] = met_df['delivery_reviews'].astype(float)"
   ]
  },
  {
   "cell_type": "code",
   "execution_count": 13,
   "metadata": {},
   "outputs": [],
   "source": [
    "met_df['rating'] = met_df.loc[:,'rating'].apply(lambda x: str(x).split(\",\"))"
   ]
  },
  {
   "cell_type": "code",
   "execution_count": 14,
   "metadata": {},
   "outputs": [],
   "source": [
    "met_df['dining_rating'] = met_df['rating'].apply(lambda x: x[0])\n",
    "met_df['delivery_rating'] = met_df['rating'].apply(lambda x: np.nan if (len(x) < 2) else x[1])"
   ]
  },
  {
   "cell_type": "code",
   "execution_count": 15,
   "metadata": {},
   "outputs": [
    {
     "data": {
      "text/plain": [
       "0        3.9\n",
       "1        4.4\n",
       "2        4.1\n",
       "3        4.5\n",
       "4        3.8\n",
       "        ... \n",
       "15435    4.0\n",
       "15436    NaN\n",
       "15437    NaN\n",
       "15438    3.7\n",
       "15439    4.1\n",
       "Name: delivery_rating, Length: 15440, dtype: object"
      ]
     },
     "execution_count": 15,
     "metadata": {},
     "output_type": "execute_result"
    }
   ],
   "source": [
    "met_df['delivery_rating'] "
   ]
  },
  {
   "cell_type": "code",
   "execution_count": 16,
   "metadata": {},
   "outputs": [
    {
     "data": {
      "text/plain": [
       "0        4.1\n",
       "1        4.1\n",
       "2        4.5\n",
       "3        4.2\n",
       "4        4.2\n",
       "        ... \n",
       "15435    4.3\n",
       "15436    3.8\n",
       "15437    4.4\n",
       "15438    4.8\n",
       "15439    4.1\n",
       "Name: dining_rating, Length: 15440, dtype: object"
      ]
     },
     "execution_count": 16,
     "metadata": {},
     "output_type": "execute_result"
    }
   ],
   "source": [
    "met_df['dining_rating']"
   ]
  },
  {
   "cell_type": "code",
   "execution_count": 17,
   "metadata": {},
   "outputs": [],
   "source": [
    "def sep_review_rating(rr):\n",
    "    return ([float(idx) for idx in rr.split(',')])"
   ]
  },
  {
   "cell_type": "code",
   "execution_count": 18,
   "metadata": {},
   "outputs": [],
   "source": [
    "met_df['review_rating'] = met_df['review_rating'].astype(str)"
   ]
  },
  {
   "cell_type": "code",
   "execution_count": 19,
   "metadata": {},
   "outputs": [
    {
     "name": "stderr",
     "output_type": "stream",
     "text": [
      "C:\\Users\\mohsh\\anaconda3\\lib\\site-packages\\ipykernel_launcher.py:2: SettingWithCopyWarning: \n",
      "A value is trying to be set on a copy of a slice from a DataFrame\n",
      "\n",
      "See the caveats in the documentation: https://pandas.pydata.org/pandas-docs/stable/user_guide/indexing.html#returning-a-view-versus-a-copy\n",
      "  \n"
     ]
    }
   ],
   "source": [
    "for i in range(0, len(met_df['review_rating'])):\n",
    "    met_df['review_rating'][i] =  [float(idx) for idx in (met_df['review_rating'][i].split(','))]"
   ]
  },
  {
   "cell_type": "code",
   "execution_count": 20,
   "metadata": {
    "scrolled": true
   },
   "outputs": [
    {
     "name": "stdout",
     "output_type": "stream",
     "text": [
      "3.4\n"
     ]
    }
   ],
   "source": [
    "print(sum(met_df['review_rating'][0])/len(met_df['review_rating'][0]))"
   ]
  },
  {
   "cell_type": "code",
   "execution_count": 21,
   "metadata": {},
   "outputs": [
    {
     "name": "stderr",
     "output_type": "stream",
     "text": [
      "C:\\Users\\mohsh\\anaconda3\\lib\\site-packages\\ipykernel_launcher.py:2: SettingWithCopyWarning: \n",
      "A value is trying to be set on a copy of a slice from a DataFrame\n",
      "\n",
      "See the caveats in the documentation: https://pandas.pydata.org/pandas-docs/stable/user_guide/indexing.html#returning-a-view-versus-a-copy\n",
      "  \n"
     ]
    }
   ],
   "source": [
    "for i in range(0, len(met_df['review_rating'])):\n",
    "    met_df['review_rating'][i] = (sum(met_df['review_rating'][i])/len(met_df['review_rating'][i]))"
   ]
  },
  {
   "cell_type": "code",
   "execution_count": 22,
   "metadata": {},
   "outputs": [
    {
     "data": {
      "text/plain": [
       "0        3.4\n",
       "1        3.8\n",
       "2        4.6\n",
       "3        4.4\n",
       "4        1.8\n",
       "        ... \n",
       "15435    2.6\n",
       "15436      5\n",
       "15437      5\n",
       "15438    4.4\n",
       "15439    4.6\n",
       "Name: review_rating, Length: 15440, dtype: object"
      ]
     },
     "execution_count": 22,
     "metadata": {},
     "output_type": "execute_result"
    }
   ],
   "source": [
    "met_df['review_rating']"
   ]
  },
  {
   "cell_type": "code",
   "execution_count": 23,
   "metadata": {},
   "outputs": [
    {
     "data": {
      "text/html": [
       "<div>\n",
       "<style scoped>\n",
       "    .dataframe tbody tr th:only-of-type {\n",
       "        vertical-align: middle;\n",
       "    }\n",
       "\n",
       "    .dataframe tbody tr th {\n",
       "        vertical-align: top;\n",
       "    }\n",
       "\n",
       "    .dataframe thead th {\n",
       "        text-align: right;\n",
       "    }\n",
       "</style>\n",
       "<table border=\"1\" class=\"dataframe\">\n",
       "  <thead>\n",
       "    <tr style=\"text-align: right;\">\n",
       "      <th></th>\n",
       "      <th>address</th>\n",
       "      <th>area</th>\n",
       "      <th>book_table</th>\n",
       "      <th>can_order_via_zomato</th>\n",
       "      <th>cost_for_two</th>\n",
       "      <th>cuisine</th>\n",
       "      <th>delivery_reviews</th>\n",
       "      <th>dining_reviews</th>\n",
       "      <th>discount</th>\n",
       "      <th>featured_in</th>\n",
       "      <th>...</th>\n",
       "      <th>location</th>\n",
       "      <th>min_amnt_for_discount</th>\n",
       "      <th>rating</th>\n",
       "      <th>res_link</th>\n",
       "      <th>rest_name</th>\n",
       "      <th>rest_type</th>\n",
       "      <th>review_rating</th>\n",
       "      <th>reviews</th>\n",
       "      <th>dining_rating</th>\n",
       "      <th>delivery_rating</th>\n",
       "    </tr>\n",
       "  </thead>\n",
       "  <tbody>\n",
       "    <tr>\n",
       "      <th>0</th>\n",
       "      <td>Near Heera Panna Mall, Link Road, Oshiwara, A...</td>\n",
       "      <td>Oshiwara, Andheri West</td>\n",
       "      <td>0</td>\n",
       "      <td>Yes</td>\n",
       "      <td>600.0</td>\n",
       "      <td>North Indian,, ,Mughlai,, ,Chinese,, ,Biryani,...</td>\n",
       "      <td>875.0</td>\n",
       "      <td>3524.0</td>\n",
       "      <td>NaN</td>\n",
       "      <td>Value For Money</td>\n",
       "      <td>...</td>\n",
       "      <td>NaN</td>\n",
       "      <td>NaN</td>\n",
       "      <td>[4.1, 3.9]</td>\n",
       "      <td>https://www.zomato.com/mumbai/cafe-safar-oshiwara</td>\n",
       "      <td>Cafe Safar\\n</td>\n",
       "      <td>Casual Dining</td>\n",
       "      <td>3.4</td>\n",
       "      <td>They have a small simple restaurant which I ha...</td>\n",
       "      <td>4.1</td>\n",
       "      <td>3.9</td>\n",
       "    </tr>\n",
       "    <tr>\n",
       "      <th>1</th>\n",
       "      <td>Accord Nidhi, Near Palm Court, Link Road, Mal...</td>\n",
       "      <td>Malad West</td>\n",
       "      <td>0</td>\n",
       "      <td>Yes</td>\n",
       "      <td>300.0</td>\n",
       "      <td>Mithai,, ,Street Food</td>\n",
       "      <td>9042.0</td>\n",
       "      <td>835.0</td>\n",
       "      <td>NaN</td>\n",
       "      <td>NaN</td>\n",
       "      <td>...</td>\n",
       "      <td>NaN</td>\n",
       "      <td>NaN</td>\n",
       "      <td>[4.1, 4.4]</td>\n",
       "      <td>https://www.zomato.com/mumbai/bikaji-food-junx...</td>\n",
       "      <td>Bikaji Food Junxon\\n                          ...</td>\n",
       "      <td>Sweet Shop</td>\n",
       "      <td>3.8</td>\n",
       "      <td>NaN</td>\n",
       "      <td>4.1</td>\n",
       "      <td>4.4</td>\n",
       "    </tr>\n",
       "  </tbody>\n",
       "</table>\n",
       "<p>2 rows × 21 columns</p>\n",
       "</div>"
      ],
      "text/plain": [
       "                                             address                    area  \\\n",
       "0   Near Heera Panna Mall, Link Road, Oshiwara, A...  Oshiwara, Andheri West   \n",
       "1   Accord Nidhi, Near Palm Court, Link Road, Mal...              Malad West   \n",
       "\n",
       "   book_table can_order_via_zomato  cost_for_two  \\\n",
       "0           0                  Yes         600.0   \n",
       "1           0                  Yes         300.0   \n",
       "\n",
       "                                             cuisine  delivery_reviews  \\\n",
       "0  North Indian,, ,Mughlai,, ,Chinese,, ,Biryani,...             875.0   \n",
       "1                              Mithai,, ,Street Food            9042.0   \n",
       "\n",
       "   dining_reviews  discount      featured_in  ...  location  \\\n",
       "0          3524.0       NaN  Value For Money  ...       NaN   \n",
       "1           835.0       NaN              NaN  ...       NaN   \n",
       "\n",
       "   min_amnt_for_discount      rating  \\\n",
       "0                    NaN  [4.1, 3.9]   \n",
       "1                    NaN  [4.1, 4.4]   \n",
       "\n",
       "                                            res_link  \\\n",
       "0  https://www.zomato.com/mumbai/cafe-safar-oshiwara   \n",
       "1  https://www.zomato.com/mumbai/bikaji-food-junx...   \n",
       "\n",
       "                                           rest_name      rest_type  \\\n",
       "0   Cafe Safar\\n                                      Casual Dining   \n",
       "1  Bikaji Food Junxon\\n                          ...     Sweet Shop   \n",
       "\n",
       "  review_rating                                            reviews  \\\n",
       "0           3.4  They have a small simple restaurant which I ha...   \n",
       "1           3.8                                                NaN   \n",
       "\n",
       "  dining_rating delivery_rating  \n",
       "0           4.1             3.9  \n",
       "1           4.1             4.4  \n",
       "\n",
       "[2 rows x 21 columns]"
      ]
     },
     "execution_count": 23,
     "metadata": {},
     "output_type": "execute_result"
    }
   ],
   "source": [
    "met_df.head(2)"
   ]
  },
  {
   "cell_type": "code",
   "execution_count": 24,
   "metadata": {},
   "outputs": [],
   "source": [
    "drop_list = ['address', 'area', 'cuisine', 'featured_in', 'location', 'min_amnt_for_discount', 'res_link', 'rest_name', 'rating']"
   ]
  },
  {
   "cell_type": "code",
   "execution_count": 25,
   "metadata": {},
   "outputs": [],
   "source": [
    "met_df.drop(drop_list, axis=1, inplace=True)"
   ]
  },
  {
   "cell_type": "code",
   "execution_count": 26,
   "metadata": {},
   "outputs": [],
   "source": [
    "met_df.drop(met_df.tail(3).index,inplace=True)"
   ]
  },
  {
   "cell_type": "code",
   "execution_count": 27,
   "metadata": {},
   "outputs": [
    {
     "name": "stdout",
     "output_type": "stream",
     "text": [
      "<class 'pandas.core.frame.DataFrame'>\n",
      "Int64Index: 15437 entries, 0 to 15436\n",
      "Data columns (total 12 columns):\n",
      " #   Column                Non-Null Count  Dtype  \n",
      "---  ------                --------------  -----  \n",
      " 0   book_table            15437 non-null  int64  \n",
      " 1   can_order_via_zomato  15437 non-null  object \n",
      " 2   cost_for_two          15437 non-null  float64\n",
      " 3   delivery_reviews      9522 non-null   float64\n",
      " 4   dining_reviews        8303 non-null   float64\n",
      " 5   discount              2038 non-null   float64\n",
      " 6   has_menu_available    15437 non-null  int64  \n",
      " 7   rest_type             15437 non-null  object \n",
      " 8   review_rating         13458 non-null  object \n",
      " 9   reviews               7304 non-null   object \n",
      " 10  dining_rating         15437 non-null  object \n",
      " 11  delivery_rating       5735 non-null   object \n",
      "dtypes: float64(4), int64(2), object(6)\n",
      "memory usage: 1.5+ MB\n"
     ]
    }
   ],
   "source": [
    "met_df.info()"
   ]
  },
  {
   "cell_type": "code",
   "execution_count": 28,
   "metadata": {},
   "outputs": [
    {
     "data": {
      "text/plain": [
       "0        0\n",
       "1        0\n",
       "2        0\n",
       "3        0\n",
       "4        0\n",
       "        ..\n",
       "15432    0\n",
       "15433    0\n",
       "15434    0\n",
       "15435    0\n",
       "15436    0\n",
       "Name: book_table, Length: 15437, dtype: int64"
      ]
     },
     "execution_count": 28,
     "metadata": {},
     "output_type": "execute_result"
    }
   ],
   "source": [
    "met_df.book_table            "
   ]
  },
  {
   "cell_type": "code",
   "execution_count": 29,
   "metadata": {},
   "outputs": [
    {
     "data": {
      "text/plain": [
       "0        Casual Dining\n",
       "1           Sweet Shop\n",
       "2          Quick Bites\n",
       "3               Bakery\n",
       "4        Casual Dining\n",
       "             ...      \n",
       "15432      Quick Bites\n",
       "15433      Quick Bites\n",
       "15434       Sweet Shop\n",
       "15435             Café\n",
       "15436     North Indian\n",
       "Name: rest_type, Length: 15437, dtype: object"
      ]
     },
     "execution_count": 29,
     "metadata": {},
     "output_type": "execute_result"
    }
   ],
   "source": [
    "met_df['rest_type']"
   ]
  },
  {
   "cell_type": "code",
   "execution_count": 30,
   "metadata": {},
   "outputs": [],
   "source": [
    "met_df['review_rating'] = met_df['review_rating'].astype(float)"
   ]
  },
  {
   "cell_type": "code",
   "execution_count": 31,
   "metadata": {},
   "outputs": [],
   "source": [
    "met_df['dining_rating'] = met_df['dining_rating'].astype(float)"
   ]
  },
  {
   "cell_type": "code",
   "execution_count": 32,
   "metadata": {},
   "outputs": [],
   "source": [
    "met_df['delivery_rating'] = met_df['delivery_rating'].astype(float)"
   ]
  },
  {
   "cell_type": "code",
   "execution_count": 33,
   "metadata": {},
   "outputs": [],
   "source": [
    "cat_cols = [col_name for col_name in met_df.columns if met_df[col_name].nunique()>2 and met_df[col_name].dtypes=='object']"
   ]
  },
  {
   "cell_type": "code",
   "execution_count": 34,
   "metadata": {},
   "outputs": [],
   "source": [
    "categorical_cols = cat_cols[0]"
   ]
  },
  {
   "cell_type": "code",
   "execution_count": 35,
   "metadata": {},
   "outputs": [
    {
     "data": {
      "text/plain": [
       "'rest_type'"
      ]
     },
     "execution_count": 35,
     "metadata": {},
     "output_type": "execute_result"
    }
   ],
   "source": [
    "categorical_cols"
   ]
  },
  {
   "cell_type": "code",
   "execution_count": 36,
   "metadata": {},
   "outputs": [],
   "source": [
    "from sklearn.compose import ColumnTransformer\n",
    "from sklearn.pipeline import Pipeline\n",
    "from sklearn.impute import SimpleImputer\n",
    "from sklearn.preprocessing import OneHotEncoder\n",
    "from sklearn.ensemble import RandomForestRegressor\n",
    "from sklearn.metrics import mean_absolute_error\n",
    "from sklearn.preprocessing import LabelEncoder"
   ]
  },
  {
   "cell_type": "code",
   "execution_count": 37,
   "metadata": {},
   "outputs": [],
   "source": [
    "imputer = SimpleImputer(strategy='mean')"
   ]
  },
  {
   "cell_type": "code",
   "execution_count": 38,
   "metadata": {},
   "outputs": [],
   "source": [
    "#met_df = pd.get_dummies(met_df, columns=['rest_type'])"
   ]
  },
  {
   "cell_type": "code",
   "execution_count": 39,
   "metadata": {},
   "outputs": [
    {
     "name": "stdout",
     "output_type": "stream",
     "text": [
      "<class 'pandas.core.frame.DataFrame'>\n",
      "Int64Index: 15437 entries, 0 to 15436\n",
      "Data columns (total 12 columns):\n",
      " #   Column                Non-Null Count  Dtype  \n",
      "---  ------                --------------  -----  \n",
      " 0   book_table            15437 non-null  int64  \n",
      " 1   can_order_via_zomato  15437 non-null  object \n",
      " 2   cost_for_two          15437 non-null  float64\n",
      " 3   delivery_reviews      9522 non-null   float64\n",
      " 4   dining_reviews        8303 non-null   float64\n",
      " 5   discount              2038 non-null   float64\n",
      " 6   has_menu_available    15437 non-null  int64  \n",
      " 7   rest_type             15437 non-null  object \n",
      " 8   review_rating         13458 non-null  float64\n",
      " 9   reviews               7304 non-null   object \n",
      " 10  dining_rating         12090 non-null  float64\n",
      " 11  delivery_rating       5735 non-null   float64\n",
      "dtypes: float64(7), int64(2), object(3)\n",
      "memory usage: 1.5+ MB\n"
     ]
    }
   ],
   "source": [
    "met_df.info()"
   ]
  },
  {
   "cell_type": "code",
   "execution_count": 40,
   "metadata": {},
   "outputs": [],
   "source": [
    "le = LabelEncoder()"
   ]
  },
  {
   "cell_type": "code",
   "execution_count": 41,
   "metadata": {},
   "outputs": [],
   "source": [
    "met_df['can_order_via_zomato'] = le.fit_transform(met_df['can_order_via_zomato'])"
   ]
  },
  {
   "cell_type": "code",
   "execution_count": 42,
   "metadata": {},
   "outputs": [],
   "source": [
    "numerical_cols = [col_name for col_name in met_df.columns if met_df[col_name].dtypes in ['float64', 'int64']]"
   ]
  },
  {
   "cell_type": "code",
   "execution_count": 43,
   "metadata": {},
   "outputs": [
    {
     "data": {
      "text/plain": [
       "['book_table',\n",
       " 'cost_for_two',\n",
       " 'delivery_reviews',\n",
       " 'dining_reviews',\n",
       " 'discount',\n",
       " 'has_menu_available',\n",
       " 'review_rating',\n",
       " 'dining_rating',\n",
       " 'delivery_rating']"
      ]
     },
     "execution_count": 43,
     "metadata": {},
     "output_type": "execute_result"
    }
   ],
   "source": [
    "numerical_cols"
   ]
  },
  {
   "cell_type": "code",
   "execution_count": 44,
   "metadata": {},
   "outputs": [],
   "source": [
    "null_cols = [col_name for col_name in met_df.columns if met_df[col_name].isna().sum()>0 and met_df[col_name].dtypes in ['float64', 'int64']]"
   ]
  },
  {
   "cell_type": "code",
   "execution_count": 45,
   "metadata": {},
   "outputs": [
    {
     "data": {
      "text/plain": [
       "['delivery_reviews',\n",
       " 'dining_reviews',\n",
       " 'discount',\n",
       " 'review_rating',\n",
       " 'dining_rating',\n",
       " 'delivery_rating']"
      ]
     },
     "execution_count": 45,
     "metadata": {},
     "output_type": "execute_result"
    }
   ],
   "source": [
    "null_cols"
   ]
  },
  {
   "cell_type": "code",
   "execution_count": 46,
   "metadata": {},
   "outputs": [],
   "source": [
    "def avg(col):\n",
    "    return met_df[col].sum()/len(met_df[col])"
   ]
  },
  {
   "cell_type": "code",
   "execution_count": 47,
   "metadata": {},
   "outputs": [],
   "source": [
    "def isNaN(num):\n",
    "    return num != num"
   ]
  },
  {
   "cell_type": "code",
   "execution_count": 48,
   "metadata": {},
   "outputs": [
    {
     "name": "stderr",
     "output_type": "stream",
     "text": [
      "C:\\Users\\mohsh\\anaconda3\\lib\\site-packages\\ipykernel_launcher.py:6: SettingWithCopyWarning: \n",
      "A value is trying to be set on a copy of a slice from a DataFrame\n",
      "\n",
      "See the caveats in the documentation: https://pandas.pydata.org/pandas-docs/stable/user_guide/indexing.html#returning-a-view-versus-a-copy\n",
      "  \n",
      "C:\\Users\\mohsh\\anaconda3\\lib\\site-packages\\ipykernel_launcher.py:8: SettingWithCopyWarning: \n",
      "A value is trying to be set on a copy of a slice from a DataFrame\n",
      "\n",
      "See the caveats in the documentation: https://pandas.pydata.org/pandas-docs/stable/user_guide/indexing.html#returning-a-view-versus-a-copy\n",
      "  \n"
     ]
    }
   ],
   "source": [
    "for col in null_cols:\n",
    "    average = avg(col)\n",
    "    for row in range(0, len(met_df[col])-5):\n",
    "        try:\n",
    "            if np.isnan(met_df[col][row]) and col != 'discount':\n",
    "                met_df[col][row] = average\n",
    "            if np.isnan(met_df[col][row]) and col == 'discount':\n",
    "                met_df[col][row] = 0\n",
    "        except ValueError:\n",
    "            print(\"Exception\",met_df[col][row])"
   ]
  },
  {
   "cell_type": "code",
   "execution_count": 49,
   "metadata": {},
   "outputs": [
    {
     "name": "stdout",
     "output_type": "stream",
     "text": [
      "book_table                 0\n",
      "can_order_via_zomato       0\n",
      "cost_for_two               0\n",
      "delivery_reviews           0\n",
      "dining_reviews             1\n",
      "discount                   3\n",
      "has_menu_available         0\n",
      "rest_type                  0\n",
      "review_rating              0\n",
      "reviews                 8133\n",
      "dining_rating              0\n",
      "delivery_rating            1\n",
      "dtype: int64\n"
     ]
    }
   ],
   "source": [
    "print_full(met_df.isna().sum())"
   ]
  },
  {
   "cell_type": "markdown",
   "metadata": {},
   "source": [
    "# review"
   ]
  },
  {
   "cell_type": "code",
   "execution_count": null,
   "metadata": {},
   "outputs": [],
   "source": [
    "#temp = met_df['reviews']"
   ]
  },
  {
   "cell_type": "code",
   "execution_count": null,
   "metadata": {},
   "outputs": [],
   "source": [
    "'''from sklearn.feature_extraction.text import TfidfVectorizer\n",
    "tfv = TfidfVectorizer()\n",
    "temp = list(tfv.fit_transform(met_df['reviews']).toarray())'''"
   ]
  },
  {
   "cell_type": "code",
   "execution_count": null,
   "metadata": {},
   "outputs": [],
   "source": [
    "'''from sklearn.feature_extraction.text import CountVectorizer\n",
    "ctv = CountVectorizer()\n",
    "temp = ctv.fit_transform(met_df['reviews'])'''"
   ]
  },
  {
   "cell_type": "code",
   "execution_count": null,
   "metadata": {},
   "outputs": [],
   "source": [
    "'''temp.toarray()'''"
   ]
  },
  {
   "cell_type": "code",
   "execution_count": null,
   "metadata": {
    "scrolled": true
   },
   "outputs": [],
   "source": [
    "'''from sklearn.feature_extraction.text import HashingVectorizer\n",
    "vectorizer = HashingVectorizer(n_features=20)\n",
    "vector = vectorizer.transform(met_df['reviews'])\n",
    "print(vector)'''"
   ]
  },
  {
   "cell_type": "markdown",
   "metadata": {},
   "source": [
    "# Modeling"
   ]
  },
  {
   "cell_type": "code",
   "execution_count": 50,
   "metadata": {},
   "outputs": [],
   "source": [
    "dataset = met_df.drop('reviews', axis=1)"
   ]
  },
  {
   "cell_type": "code",
   "execution_count": 53,
   "metadata": {},
   "outputs": [
    {
     "data": {
      "text/html": [
       "<div>\n",
       "<style scoped>\n",
       "    .dataframe tbody tr th:only-of-type {\n",
       "        vertical-align: middle;\n",
       "    }\n",
       "\n",
       "    .dataframe tbody tr th {\n",
       "        vertical-align: top;\n",
       "    }\n",
       "\n",
       "    .dataframe thead th {\n",
       "        text-align: right;\n",
       "    }\n",
       "</style>\n",
       "<table border=\"1\" class=\"dataframe\">\n",
       "  <thead>\n",
       "    <tr style=\"text-align: right;\">\n",
       "      <th></th>\n",
       "      <th>book_table</th>\n",
       "      <th>can_order_via_zomato</th>\n",
       "      <th>cost_for_two</th>\n",
       "      <th>delivery_reviews</th>\n",
       "      <th>dining_reviews</th>\n",
       "      <th>discount</th>\n",
       "      <th>has_menu_available</th>\n",
       "      <th>rest_type</th>\n",
       "      <th>review_rating</th>\n",
       "      <th>dining_rating</th>\n",
       "      <th>delivery_rating</th>\n",
       "    </tr>\n",
       "  </thead>\n",
       "  <tbody>\n",
       "    <tr>\n",
       "      <th>0</th>\n",
       "      <td>0</td>\n",
       "      <td>1</td>\n",
       "      <td>600.0</td>\n",
       "      <td>875.0</td>\n",
       "      <td>3524.000000</td>\n",
       "      <td>0.0</td>\n",
       "      <td>1</td>\n",
       "      <td>Casual Dining</td>\n",
       "      <td>3.4</td>\n",
       "      <td>4.1</td>\n",
       "      <td>3.900000</td>\n",
       "    </tr>\n",
       "    <tr>\n",
       "      <th>1</th>\n",
       "      <td>0</td>\n",
       "      <td>1</td>\n",
       "      <td>300.0</td>\n",
       "      <td>9042.0</td>\n",
       "      <td>835.000000</td>\n",
       "      <td>0.0</td>\n",
       "      <td>1</td>\n",
       "      <td>Sweet Shop</td>\n",
       "      <td>3.8</td>\n",
       "      <td>4.1</td>\n",
       "      <td>4.400000</td>\n",
       "    </tr>\n",
       "    <tr>\n",
       "      <th>2</th>\n",
       "      <td>0</td>\n",
       "      <td>1</td>\n",
       "      <td>300.0</td>\n",
       "      <td>209.0</td>\n",
       "      <td>4044.000000</td>\n",
       "      <td>0.0</td>\n",
       "      <td>1</td>\n",
       "      <td>Quick Bites</td>\n",
       "      <td>4.6</td>\n",
       "      <td>4.5</td>\n",
       "      <td>4.100000</td>\n",
       "    </tr>\n",
       "    <tr>\n",
       "      <th>3</th>\n",
       "      <td>0</td>\n",
       "      <td>1</td>\n",
       "      <td>900.0</td>\n",
       "      <td>3428.0</td>\n",
       "      <td>419.000000</td>\n",
       "      <td>0.0</td>\n",
       "      <td>1</td>\n",
       "      <td>Bakery</td>\n",
       "      <td>4.4</td>\n",
       "      <td>4.2</td>\n",
       "      <td>4.500000</td>\n",
       "    </tr>\n",
       "    <tr>\n",
       "      <th>4</th>\n",
       "      <td>0</td>\n",
       "      <td>0</td>\n",
       "      <td>700.0</td>\n",
       "      <td>8871.0</td>\n",
       "      <td>2717.000000</td>\n",
       "      <td>0.0</td>\n",
       "      <td>1</td>\n",
       "      <td>Casual Dining</td>\n",
       "      <td>1.8</td>\n",
       "      <td>4.2</td>\n",
       "      <td>3.800000</td>\n",
       "    </tr>\n",
       "    <tr>\n",
       "      <th>...</th>\n",
       "      <td>...</td>\n",
       "      <td>...</td>\n",
       "      <td>...</td>\n",
       "      <td>...</td>\n",
       "      <td>...</td>\n",
       "      <td>...</td>\n",
       "      <td>...</td>\n",
       "      <td>...</td>\n",
       "      <td>...</td>\n",
       "      <td>...</td>\n",
       "      <td>...</td>\n",
       "    </tr>\n",
       "    <tr>\n",
       "      <th>15428</th>\n",
       "      <td>0</td>\n",
       "      <td>1</td>\n",
       "      <td>600.0</td>\n",
       "      <td>2231.0</td>\n",
       "      <td>147.012891</td>\n",
       "      <td>10.0</td>\n",
       "      <td>1</td>\n",
       "      <td>North Indian</td>\n",
       "      <td>5.0</td>\n",
       "      <td>3.2</td>\n",
       "      <td>1.365971</td>\n",
       "    </tr>\n",
       "    <tr>\n",
       "      <th>15429</th>\n",
       "      <td>0</td>\n",
       "      <td>1</td>\n",
       "      <td>600.0</td>\n",
       "      <td>1736.0</td>\n",
       "      <td>230.000000</td>\n",
       "      <td>0.0</td>\n",
       "      <td>1</td>\n",
       "      <td>Quick Bites</td>\n",
       "      <td>5.0</td>\n",
       "      <td>4.2</td>\n",
       "      <td>3.700000</td>\n",
       "    </tr>\n",
       "    <tr>\n",
       "      <th>15430</th>\n",
       "      <td>0</td>\n",
       "      <td>1</td>\n",
       "      <td>400.0</td>\n",
       "      <td>701.0</td>\n",
       "      <td>147.012891</td>\n",
       "      <td>20.0</td>\n",
       "      <td>1</td>\n",
       "      <td>Bakery</td>\n",
       "      <td>4.6</td>\n",
       "      <td>3.7</td>\n",
       "      <td>1.365971</td>\n",
       "    </tr>\n",
       "    <tr>\n",
       "      <th>15431</th>\n",
       "      <td>0</td>\n",
       "      <td>0</td>\n",
       "      <td>600.0</td>\n",
       "      <td>613.0</td>\n",
       "      <td>147.012891</td>\n",
       "      <td>0.0</td>\n",
       "      <td>1</td>\n",
       "      <td>North Indian</td>\n",
       "      <td>5.0</td>\n",
       "      <td>3.3</td>\n",
       "      <td>1.365971</td>\n",
       "    </tr>\n",
       "    <tr>\n",
       "      <th>15433</th>\n",
       "      <td>0</td>\n",
       "      <td>1</td>\n",
       "      <td>700.0</td>\n",
       "      <td>165.0</td>\n",
       "      <td>1126.000000</td>\n",
       "      <td>20.0</td>\n",
       "      <td>1</td>\n",
       "      <td>Quick Bites</td>\n",
       "      <td>1.4</td>\n",
       "      <td>4.2</td>\n",
       "      <td>3.400000</td>\n",
       "    </tr>\n",
       "  </tbody>\n",
       "</table>\n",
       "<p>15433 rows × 11 columns</p>\n",
       "</div>"
      ],
      "text/plain": [
       "       book_table  can_order_via_zomato  cost_for_two  delivery_reviews  \\\n",
       "0               0                     1         600.0             875.0   \n",
       "1               0                     1         300.0            9042.0   \n",
       "2               0                     1         300.0             209.0   \n",
       "3               0                     1         900.0            3428.0   \n",
       "4               0                     0         700.0            8871.0   \n",
       "...           ...                   ...           ...               ...   \n",
       "15428           0                     1         600.0            2231.0   \n",
       "15429           0                     1         600.0            1736.0   \n",
       "15430           0                     1         400.0             701.0   \n",
       "15431           0                     0         600.0             613.0   \n",
       "15433           0                     1         700.0             165.0   \n",
       "\n",
       "       dining_reviews  discount  has_menu_available      rest_type  \\\n",
       "0         3524.000000       0.0                   1  Casual Dining   \n",
       "1          835.000000       0.0                   1     Sweet Shop   \n",
       "2         4044.000000       0.0                   1    Quick Bites   \n",
       "3          419.000000       0.0                   1         Bakery   \n",
       "4         2717.000000       0.0                   1  Casual Dining   \n",
       "...               ...       ...                 ...            ...   \n",
       "15428      147.012891      10.0                   1   North Indian   \n",
       "15429      230.000000       0.0                   1    Quick Bites   \n",
       "15430      147.012891      20.0                   1         Bakery   \n",
       "15431      147.012891       0.0                   1   North Indian   \n",
       "15433     1126.000000      20.0                   1    Quick Bites   \n",
       "\n",
       "       review_rating  dining_rating  delivery_rating  \n",
       "0                3.4            4.1         3.900000  \n",
       "1                3.8            4.1         4.400000  \n",
       "2                4.6            4.5         4.100000  \n",
       "3                4.4            4.2         4.500000  \n",
       "4                1.8            4.2         3.800000  \n",
       "...              ...            ...              ...  \n",
       "15428            5.0            3.2         1.365971  \n",
       "15429            5.0            4.2         3.700000  \n",
       "15430            4.6            3.7         1.365971  \n",
       "15431            5.0            3.3         1.365971  \n",
       "15433            1.4            4.2         3.400000  \n",
       "\n",
       "[15433 rows x 11 columns]"
      ]
     },
     "execution_count": 53,
     "metadata": {},
     "output_type": "execute_result"
    }
   ],
   "source": [
    "dataset"
   ]
  },
  {
   "cell_type": "code",
   "execution_count": 52,
   "metadata": {},
   "outputs": [],
   "source": [
    "dataset.dropna(inplace=True)"
   ]
  },
  {
   "cell_type": "code",
   "execution_count": 57,
   "metadata": {},
   "outputs": [],
   "source": [
    "dataset.to_csv('cleaned_dataset.csv')"
   ]
  },
  {
   "cell_type": "code",
   "execution_count": 56,
   "metadata": {},
   "outputs": [
    {
     "data": {
      "text/plain": [
       "array(['Casual Dining', 'Sweet Shop', 'Quick Bites', 'Bakery',\n",
       "       'Dessert Parlor', 'Bar', 'Beverage Shop', 'South Indian',\n",
       "       'Chinese', 'Fast Food', 'Rolls', 'Café', 'Pizza', 'Fine Dining',\n",
       "       'Biryani', 'Asian', 'Momos', 'Pub', 'Healthy Food', 'North Indian',\n",
       "       'Club', 'Kiosk', 'Bengali', 'Dhaba', 'Korean', 'Lounge',\n",
       "       'Sandwich', 'Tea', 'Lebanese', 'Food Truck', 'American', 'Mexican',\n",
       "       'Street Food', 'Raw Meats', 'Food Court', 'Kebab', 'Mughlai',\n",
       "       'Burger', 'Continental', 'Arabian', 'Irani Cafe', 'Bihari',\n",
       "       'Ice Cream', 'Roast Chicken', 'Maharashtrian', 'Confectionery',\n",
       "       'Japanese', 'Italian', 'Desserts', 'Mithai', 'Seafood',\n",
       "       'Beverages', 'Paan Shop', 'Mangalorean', 'Malwani', 'Kerala',\n",
       "       'Salad', 'Konkan', 'Tibetan', 'Thai', 'Juices', 'Wraps', 'Sindhi',\n",
       "       'Sushi', 'Cuisine Varies', 'Shack', 'Bhojanalya', 'Awadhi', 'Paan',\n",
       "       'Indonesian', 'Hyderabadi', 'BBQ', 'Gujarati', 'Mediterranean',\n",
       "       'Parsi', 'Rajasthani', 'Iranian', 'North Eastern', 'Kashmiri',\n",
       "       'Modern Indian', 'Odia', 'Goan', 'Hot dogs', 'Coffee',\n",
       "       'Microbrewery', 'Meat Shop', 'Cafe', 'Cocktail Bar', 'Naga',\n",
       "       'Middle Eastern', 'Diner', 'European', 'Snack Bar', 'Assamese'],\n",
       "      dtype=object)"
      ]
     },
     "execution_count": 56,
     "metadata": {},
     "output_type": "execute_result"
    }
   ],
   "source": [
    "dataset['rest_type'].unique()"
   ]
  },
  {
   "cell_type": "code",
   "execution_count": null,
   "metadata": {},
   "outputs": [],
   "source": []
  }
 ],
 "metadata": {
  "kernelspec": {
   "display_name": "Python 3",
   "language": "python",
   "name": "python3"
  },
  "language_info": {
   "codemirror_mode": {
    "name": "ipython",
    "version": 3
   },
   "file_extension": ".py",
   "mimetype": "text/x-python",
   "name": "python",
   "nbconvert_exporter": "python",
   "pygments_lexer": "ipython3",
   "version": "3.7.6"
  }
 },
 "nbformat": 4,
 "nbformat_minor": 4
}
