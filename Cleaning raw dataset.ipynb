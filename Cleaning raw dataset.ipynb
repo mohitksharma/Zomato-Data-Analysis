{
 "cells": [
  {
   "cell_type": "code",
   "execution_count": 256,
   "metadata": {},
   "outputs": [],
   "source": [
    "import pandas as pd\n",
    "import numpy as np\n",
    "import matplotlib.pyplot as plt\n",
    "import seaborn as sb\n",
    "import re\n",
    "%matplotlib inline"
   ]
  },
  {
   "cell_type": "code",
   "execution_count": 257,
   "metadata": {},
   "outputs": [],
   "source": [
    "def print_full(x):\n",
    "    pd.set_option('display.max_rows', len(x))\n",
    "    print(x)\n",
    "    pd.reset_option('display.max_rows')"
   ]
  },
  {
   "cell_type": "code",
   "execution_count": 258,
   "metadata": {},
   "outputs": [],
   "source": [
    "mum_df = pd.read_csv('mumbai.csv')"
   ]
  },
  {
   "cell_type": "code",
   "execution_count": 259,
   "metadata": {},
   "outputs": [],
   "source": [
    "del_df = pd.read_csv('delhi.csv')"
   ]
  },
  {
   "cell_type": "code",
   "execution_count": 260,
   "metadata": {},
   "outputs": [],
   "source": [
    "met_df = pd.concat([mum_df, del_df],ignore_index=  True)"
   ]
  },
  {
   "cell_type": "code",
   "execution_count": 261,
   "metadata": {},
   "outputs": [
    {
     "name": "stdout",
     "output_type": "stream",
     "text": [
      "<class 'pandas.core.frame.DataFrame'>\n",
      "RangeIndex: 15440 entries, 0 to 15439\n",
      "Data columns (total 19 columns):\n",
      " #   Column                 Non-Null Count  Dtype  \n",
      "---  ------                 --------------  -----  \n",
      " 0   address                15440 non-null  object \n",
      " 1   area                   15440 non-null  object \n",
      " 2   book_table             15440 non-null  int64  \n",
      " 3   can_order_via_zomato   15440 non-null  object \n",
      " 4   cost_for_two           15437 non-null  object \n",
      " 5   cuisine                15440 non-null  object \n",
      " 6   delivery_reviews       9525 non-null   object \n",
      " 7   dining_reviews         8305 non-null   float64\n",
      " 8   discount               2039 non-null   float64\n",
      " 9   featured_in            801 non-null    object \n",
      " 10  has_menu_available     15440 non-null  int64  \n",
      " 11  location               0 non-null      float64\n",
      " 12  min_amnt_for_discount  0 non-null      float64\n",
      " 13  rating                 12093 non-null  object \n",
      " 14  res_link               15440 non-null  object \n",
      " 15  rest_name              15440 non-null  object \n",
      " 16  rest_type              15440 non-null  object \n",
      " 17  review_rating          13461 non-null  object \n",
      " 18  reviews                7306 non-null   object \n",
      "dtypes: float64(4), int64(2), object(13)\n",
      "memory usage: 2.2+ MB\n"
     ]
    }
   ],
   "source": [
    "met_df.info()"
   ]
  },
  {
   "cell_type": "code",
   "execution_count": 262,
   "metadata": {},
   "outputs": [],
   "source": [
    "def clean_cost(cost):\n",
    "    cost_tem = ''\n",
    "    tem = re.findall(\"\\\\d+\", cost)\n",
    "    return cost_tem.join(tem)"
   ]
  },
  {
   "cell_type": "code",
   "execution_count": 263,
   "metadata": {},
   "outputs": [],
   "source": [
    "met_df['cost_for_two'] = met_df['cost_for_two'].astype(str)\n",
    "met_df['cost_for_two'] = met_df['cost_for_two'].apply(lambda x: x.replace(\",\",\"\"))\n",
    "met_df['cost_for_two'] = met_df['cost_for_two'].apply(clean_cost)"
   ]
  },
  {
   "cell_type": "code",
   "execution_count": 264,
   "metadata": {},
   "outputs": [],
   "source": [
    "def toFloat(cost):\n",
    "    try:\n",
    "        return float(cost)\n",
    "    except ValueError:\n",
    "        return 0"
   ]
  },
  {
   "cell_type": "code",
   "execution_count": 265,
   "metadata": {},
   "outputs": [],
   "source": [
    "met_df['cost_for_two'] = met_df['cost_for_two'].apply(lambda x: toFloat(x))"
   ]
  },
  {
   "cell_type": "code",
   "execution_count": 266,
   "metadata": {},
   "outputs": [],
   "source": [
    "met_df['delivery_reviews'] = met_df['delivery_reviews'].astype(str)\n",
    "met_df['delivery_reviews'] = met_df['delivery_reviews'].apply(lambda x: x.replace(\",\", \"\"))"
   ]
  },
  {
   "cell_type": "code",
   "execution_count": 267,
   "metadata": {},
   "outputs": [],
   "source": [
    "met_df['delivery_reviews'] = met_df['delivery_reviews'].astype(float)"
   ]
  },
  {
   "cell_type": "code",
   "execution_count": 268,
   "metadata": {},
   "outputs": [],
   "source": [
    "met_df['rating'] = met_df.loc[:,'rating'].apply(lambda x: str(x).split(\",\"))"
   ]
  },
  {
   "cell_type": "code",
   "execution_count": 269,
   "metadata": {},
   "outputs": [],
   "source": [
    "met_df['dining_rating'] = met_df['rating'].apply(lambda x: x[0])\n",
    "met_df['delivery_rating'] = met_df['rating'].apply(lambda x: np.nan if (len(x) < 2) else x[1])"
   ]
  },
  {
   "cell_type": "code",
   "execution_count": 270,
   "metadata": {},
   "outputs": [
    {
     "data": {
      "text/plain": [
       "0        3.9\n",
       "1        4.4\n",
       "2        4.1\n",
       "3        4.5\n",
       "4        3.8\n",
       "        ... \n",
       "15435    4.0\n",
       "15436    NaN\n",
       "15437    NaN\n",
       "15438    3.7\n",
       "15439    4.1\n",
       "Name: delivery_rating, Length: 15440, dtype: object"
      ]
     },
     "execution_count": 270,
     "metadata": {},
     "output_type": "execute_result"
    }
   ],
   "source": [
    "met_df['delivery_rating'] "
   ]
  },
  {
   "cell_type": "code",
   "execution_count": 271,
   "metadata": {},
   "outputs": [
    {
     "data": {
      "text/plain": [
       "0        4.1\n",
       "1        4.1\n",
       "2        4.5\n",
       "3        4.2\n",
       "4        4.2\n",
       "        ... \n",
       "15435    4.3\n",
       "15436    3.8\n",
       "15437    4.4\n",
       "15438    4.8\n",
       "15439    4.1\n",
       "Name: dining_rating, Length: 15440, dtype: object"
      ]
     },
     "execution_count": 271,
     "metadata": {},
     "output_type": "execute_result"
    }
   ],
   "source": [
    "met_df['dining_rating']"
   ]
  },
  {
   "cell_type": "code",
   "execution_count": 272,
   "metadata": {},
   "outputs": [],
   "source": [
    "def sep_review_rating(rr):\n",
    "    return ([float(idx) for idx in rr.split(',')])"
   ]
  },
  {
   "cell_type": "code",
   "execution_count": 273,
   "metadata": {},
   "outputs": [],
   "source": [
    "met_df['review_rating'] = met_df['review_rating'].astype(str)"
   ]
  },
  {
   "cell_type": "code",
   "execution_count": 274,
   "metadata": {},
   "outputs": [
    {
     "name": "stderr",
     "output_type": "stream",
     "text": [
      "C:\\Users\\mohsh\\anaconda3\\lib\\site-packages\\ipykernel_launcher.py:2: SettingWithCopyWarning: \n",
      "A value is trying to be set on a copy of a slice from a DataFrame\n",
      "\n",
      "See the caveats in the documentation: https://pandas.pydata.org/pandas-docs/stable/user_guide/indexing.html#returning-a-view-versus-a-copy\n",
      "  \n"
     ]
    }
   ],
   "source": [
    "for i in range(0, len(met_df['review_rating'])):\n",
    "    met_df['review_rating'][i] =  [float(idx) for idx in (met_df['review_rating'][i].split(','))]"
   ]
  },
  {
   "cell_type": "code",
   "execution_count": 275,
   "metadata": {
    "scrolled": true
   },
   "outputs": [
    {
     "name": "stdout",
     "output_type": "stream",
     "text": [
      "3.4\n"
     ]
    }
   ],
   "source": [
    "print(sum(met_df['review_rating'][0])/len(met_df['review_rating'][0]))"
   ]
  },
  {
   "cell_type": "code",
   "execution_count": 276,
   "metadata": {},
   "outputs": [
    {
     "name": "stderr",
     "output_type": "stream",
     "text": [
      "C:\\Users\\mohsh\\anaconda3\\lib\\site-packages\\ipykernel_launcher.py:2: SettingWithCopyWarning: \n",
      "A value is trying to be set on a copy of a slice from a DataFrame\n",
      "\n",
      "See the caveats in the documentation: https://pandas.pydata.org/pandas-docs/stable/user_guide/indexing.html#returning-a-view-versus-a-copy\n",
      "  \n"
     ]
    }
   ],
   "source": [
    "for i in range(0, len(met_df['review_rating'])):\n",
    "    met_df['review_rating'][i] = (sum(met_df['review_rating'][i])/len(met_df['review_rating'][i]))"
   ]
  },
  {
   "cell_type": "code",
   "execution_count": 277,
   "metadata": {},
   "outputs": [
    {
     "data": {
      "text/plain": [
       "0        3.4\n",
       "1        3.8\n",
       "2        4.6\n",
       "3        4.4\n",
       "4        1.8\n",
       "        ... \n",
       "15435    2.6\n",
       "15436      5\n",
       "15437      5\n",
       "15438    4.4\n",
       "15439    4.6\n",
       "Name: review_rating, Length: 15440, dtype: object"
      ]
     },
     "execution_count": 277,
     "metadata": {},
     "output_type": "execute_result"
    }
   ],
   "source": [
    "met_df['review_rating']"
   ]
  },
  {
   "cell_type": "code",
   "execution_count": 278,
   "metadata": {},
   "outputs": [
    {
     "data": {
      "text/html": [
       "<div>\n",
       "<style scoped>\n",
       "    .dataframe tbody tr th:only-of-type {\n",
       "        vertical-align: middle;\n",
       "    }\n",
       "\n",
       "    .dataframe tbody tr th {\n",
       "        vertical-align: top;\n",
       "    }\n",
       "\n",
       "    .dataframe thead th {\n",
       "        text-align: right;\n",
       "    }\n",
       "</style>\n",
       "<table border=\"1\" class=\"dataframe\">\n",
       "  <thead>\n",
       "    <tr style=\"text-align: right;\">\n",
       "      <th></th>\n",
       "      <th>address</th>\n",
       "      <th>area</th>\n",
       "      <th>book_table</th>\n",
       "      <th>can_order_via_zomato</th>\n",
       "      <th>cost_for_two</th>\n",
       "      <th>cuisine</th>\n",
       "      <th>delivery_reviews</th>\n",
       "      <th>dining_reviews</th>\n",
       "      <th>discount</th>\n",
       "      <th>featured_in</th>\n",
       "      <th>...</th>\n",
       "      <th>location</th>\n",
       "      <th>min_amnt_for_discount</th>\n",
       "      <th>rating</th>\n",
       "      <th>res_link</th>\n",
       "      <th>rest_name</th>\n",
       "      <th>rest_type</th>\n",
       "      <th>review_rating</th>\n",
       "      <th>reviews</th>\n",
       "      <th>dining_rating</th>\n",
       "      <th>delivery_rating</th>\n",
       "    </tr>\n",
       "  </thead>\n",
       "  <tbody>\n",
       "    <tr>\n",
       "      <th>0</th>\n",
       "      <td>Near Heera Panna Mall, Link Road, Oshiwara, A...</td>\n",
       "      <td>Oshiwara, Andheri West</td>\n",
       "      <td>0</td>\n",
       "      <td>Yes</td>\n",
       "      <td>600.0</td>\n",
       "      <td>North Indian,, ,Mughlai,, ,Chinese,, ,Biryani,...</td>\n",
       "      <td>875.0</td>\n",
       "      <td>3524.0</td>\n",
       "      <td>NaN</td>\n",
       "      <td>Value For Money</td>\n",
       "      <td>...</td>\n",
       "      <td>NaN</td>\n",
       "      <td>NaN</td>\n",
       "      <td>[4.1, 3.9]</td>\n",
       "      <td>https://www.zomato.com/mumbai/cafe-safar-oshiwara</td>\n",
       "      <td>Cafe Safar\\n</td>\n",
       "      <td>Casual Dining</td>\n",
       "      <td>3.4</td>\n",
       "      <td>They have a small simple restaurant which I ha...</td>\n",
       "      <td>4.1</td>\n",
       "      <td>3.9</td>\n",
       "    </tr>\n",
       "    <tr>\n",
       "      <th>1</th>\n",
       "      <td>Accord Nidhi, Near Palm Court, Link Road, Mal...</td>\n",
       "      <td>Malad West</td>\n",
       "      <td>0</td>\n",
       "      <td>Yes</td>\n",
       "      <td>300.0</td>\n",
       "      <td>Mithai,, ,Street Food</td>\n",
       "      <td>9042.0</td>\n",
       "      <td>835.0</td>\n",
       "      <td>NaN</td>\n",
       "      <td>NaN</td>\n",
       "      <td>...</td>\n",
       "      <td>NaN</td>\n",
       "      <td>NaN</td>\n",
       "      <td>[4.1, 4.4]</td>\n",
       "      <td>https://www.zomato.com/mumbai/bikaji-food-junx...</td>\n",
       "      <td>Bikaji Food Junxon\\n                          ...</td>\n",
       "      <td>Sweet Shop</td>\n",
       "      <td>3.8</td>\n",
       "      <td>NaN</td>\n",
       "      <td>4.1</td>\n",
       "      <td>4.4</td>\n",
       "    </tr>\n",
       "  </tbody>\n",
       "</table>\n",
       "<p>2 rows × 21 columns</p>\n",
       "</div>"
      ],
      "text/plain": [
       "                                             address                    area  \\\n",
       "0   Near Heera Panna Mall, Link Road, Oshiwara, A...  Oshiwara, Andheri West   \n",
       "1   Accord Nidhi, Near Palm Court, Link Road, Mal...              Malad West   \n",
       "\n",
       "   book_table can_order_via_zomato  cost_for_two  \\\n",
       "0           0                  Yes         600.0   \n",
       "1           0                  Yes         300.0   \n",
       "\n",
       "                                             cuisine  delivery_reviews  \\\n",
       "0  North Indian,, ,Mughlai,, ,Chinese,, ,Biryani,...             875.0   \n",
       "1                              Mithai,, ,Street Food            9042.0   \n",
       "\n",
       "   dining_reviews  discount      featured_in  ...  location  \\\n",
       "0          3524.0       NaN  Value For Money  ...       NaN   \n",
       "1           835.0       NaN              NaN  ...       NaN   \n",
       "\n",
       "   min_amnt_for_discount      rating  \\\n",
       "0                    NaN  [4.1, 3.9]   \n",
       "1                    NaN  [4.1, 4.4]   \n",
       "\n",
       "                                            res_link  \\\n",
       "0  https://www.zomato.com/mumbai/cafe-safar-oshiwara   \n",
       "1  https://www.zomato.com/mumbai/bikaji-food-junx...   \n",
       "\n",
       "                                           rest_name      rest_type  \\\n",
       "0   Cafe Safar\\n                                      Casual Dining   \n",
       "1  Bikaji Food Junxon\\n                          ...     Sweet Shop   \n",
       "\n",
       "  review_rating                                            reviews  \\\n",
       "0           3.4  They have a small simple restaurant which I ha...   \n",
       "1           3.8                                                NaN   \n",
       "\n",
       "  dining_rating delivery_rating  \n",
       "0           4.1             3.9  \n",
       "1           4.1             4.4  \n",
       "\n",
       "[2 rows x 21 columns]"
      ]
     },
     "execution_count": 278,
     "metadata": {},
     "output_type": "execute_result"
    }
   ],
   "source": [
    "met_df.head(2)"
   ]
  },
  {
   "cell_type": "code",
   "execution_count": 279,
   "metadata": {},
   "outputs": [],
   "source": [
    "drop_list = ['address', 'area', 'cuisine', 'featured_in', 'location', 'min_amnt_for_discount', 'res_link', 'rest_name', 'rating']"
   ]
  },
  {
   "cell_type": "code",
   "execution_count": 280,
   "metadata": {},
   "outputs": [],
   "source": [
    "met_df.drop(drop_list, axis=1, inplace=True)"
   ]
  },
  {
   "cell_type": "code",
   "execution_count": 281,
   "metadata": {},
   "outputs": [],
   "source": [
    "met_df.drop(met_df.tail(3).index,inplace=True)"
   ]
  },
  {
   "cell_type": "code",
   "execution_count": 282,
   "metadata": {},
   "outputs": [
    {
     "name": "stdout",
     "output_type": "stream",
     "text": [
      "<class 'pandas.core.frame.DataFrame'>\n",
      "Int64Index: 15437 entries, 0 to 15436\n",
      "Data columns (total 12 columns):\n",
      " #   Column                Non-Null Count  Dtype  \n",
      "---  ------                --------------  -----  \n",
      " 0   book_table            15437 non-null  int64  \n",
      " 1   can_order_via_zomato  15437 non-null  object \n",
      " 2   cost_for_two          15437 non-null  float64\n",
      " 3   delivery_reviews      9522 non-null   float64\n",
      " 4   dining_reviews        8303 non-null   float64\n",
      " 5   discount              2038 non-null   float64\n",
      " 6   has_menu_available    15437 non-null  int64  \n",
      " 7   rest_type             15437 non-null  object \n",
      " 8   review_rating         13458 non-null  object \n",
      " 9   reviews               7304 non-null   object \n",
      " 10  dining_rating         15437 non-null  object \n",
      " 11  delivery_rating       5735 non-null   object \n",
      "dtypes: float64(4), int64(2), object(6)\n",
      "memory usage: 1.5+ MB\n"
     ]
    }
   ],
   "source": [
    "met_df.info()"
   ]
  },
  {
   "cell_type": "code",
   "execution_count": 283,
   "metadata": {},
   "outputs": [
    {
     "data": {
      "text/plain": [
       "0        0\n",
       "1        0\n",
       "2        0\n",
       "3        0\n",
       "4        0\n",
       "        ..\n",
       "15432    0\n",
       "15433    0\n",
       "15434    0\n",
       "15435    0\n",
       "15436    0\n",
       "Name: book_table, Length: 15437, dtype: int64"
      ]
     },
     "execution_count": 283,
     "metadata": {},
     "output_type": "execute_result"
    }
   ],
   "source": [
    "met_df.book_table            "
   ]
  },
  {
   "cell_type": "code",
   "execution_count": 284,
   "metadata": {},
   "outputs": [
    {
     "data": {
      "text/plain": [
       "0        Casual Dining\n",
       "1           Sweet Shop\n",
       "2          Quick Bites\n",
       "3               Bakery\n",
       "4        Casual Dining\n",
       "             ...      \n",
       "15432      Quick Bites\n",
       "15433      Quick Bites\n",
       "15434       Sweet Shop\n",
       "15435             Café\n",
       "15436     North Indian\n",
       "Name: rest_type, Length: 15437, dtype: object"
      ]
     },
     "execution_count": 284,
     "metadata": {},
     "output_type": "execute_result"
    }
   ],
   "source": [
    "met_df['rest_type']"
   ]
  },
  {
   "cell_type": "code",
   "execution_count": 285,
   "metadata": {},
   "outputs": [],
   "source": [
    "met_df['review_rating'] = met_df['review_rating'].astype(float)"
   ]
  },
  {
   "cell_type": "code",
   "execution_count": 286,
   "metadata": {},
   "outputs": [],
   "source": [
    "met_df['dining_rating'] = met_df['dining_rating'].astype(float)"
   ]
  },
  {
   "cell_type": "code",
   "execution_count": 287,
   "metadata": {},
   "outputs": [],
   "source": [
    "met_df['delivery_rating'] = met_df['delivery_rating'].astype(float)"
   ]
  },
  {
   "cell_type": "code",
   "execution_count": 288,
   "metadata": {},
   "outputs": [],
   "source": [
    "cat_cols = [col_name for col_name in met_df.columns if met_df[col_name].nunique()>2 and met_df[col_name].dtypes=='object']"
   ]
  },
  {
   "cell_type": "code",
   "execution_count": 289,
   "metadata": {},
   "outputs": [],
   "source": [
    "categorical_cols = cat_cols[0]"
   ]
  },
  {
   "cell_type": "code",
   "execution_count": 290,
   "metadata": {},
   "outputs": [
    {
     "data": {
      "text/plain": [
       "'rest_type'"
      ]
     },
     "execution_count": 290,
     "metadata": {},
     "output_type": "execute_result"
    }
   ],
   "source": [
    "categorical_cols"
   ]
  },
  {
   "cell_type": "code",
   "execution_count": 291,
   "metadata": {},
   "outputs": [],
   "source": [
    "from sklearn.compose import ColumnTransformer\n",
    "from sklearn.pipeline import Pipeline\n",
    "from sklearn.impute import SimpleImputer\n",
    "from sklearn.preprocessing import OneHotEncoder\n",
    "from sklearn.ensemble import RandomForestRegressor\n",
    "from sklearn.metrics import mean_absolute_error\n",
    "from sklearn.preprocessing import LabelEncoder"
   ]
  },
  {
   "cell_type": "code",
   "execution_count": 292,
   "metadata": {},
   "outputs": [],
   "source": [
    "imputer = SimpleImputer(strategy='mean')"
   ]
  },
  {
   "cell_type": "code",
   "execution_count": 293,
   "metadata": {},
   "outputs": [],
   "source": [
    "met_df = pd.get_dummies(met_df, columns=['rest_type'])"
   ]
  },
  {
   "cell_type": "code",
   "execution_count": 294,
   "metadata": {},
   "outputs": [
    {
     "name": "stdout",
     "output_type": "stream",
     "text": [
      "<class 'pandas.core.frame.DataFrame'>\n",
      "Int64Index: 15437 entries, 0 to 15436\n",
      "Columns: 105 entries, book_table to rest_type_Wraps\n",
      "dtypes: float64(7), int64(2), object(2), uint8(94)\n",
      "memory usage: 2.8+ MB\n"
     ]
    }
   ],
   "source": [
    "met_df.info()"
   ]
  },
  {
   "cell_type": "code",
   "execution_count": 295,
   "metadata": {},
   "outputs": [],
   "source": [
    "le = LabelEncoder()"
   ]
  },
  {
   "cell_type": "code",
   "execution_count": 296,
   "metadata": {},
   "outputs": [],
   "source": [
    "met_df['can_order_via_zomato'] = le.fit_transform(met_df['can_order_via_zomato'])"
   ]
  },
  {
   "cell_type": "code",
   "execution_count": 297,
   "metadata": {},
   "outputs": [],
   "source": [
    "numerical_cols = [col_name for col_name in met_df.columns if met_df[col_name].dtypes in ['float64', 'int64']]"
   ]
  },
  {
   "cell_type": "code",
   "execution_count": 298,
   "metadata": {},
   "outputs": [
    {
     "data": {
      "text/plain": [
       "['book_table',\n",
       " 'cost_for_two',\n",
       " 'delivery_reviews',\n",
       " 'dining_reviews',\n",
       " 'discount',\n",
       " 'has_menu_available',\n",
       " 'review_rating',\n",
       " 'dining_rating',\n",
       " 'delivery_rating']"
      ]
     },
     "execution_count": 298,
     "metadata": {},
     "output_type": "execute_result"
    }
   ],
   "source": [
    "numerical_cols"
   ]
  },
  {
   "cell_type": "code",
   "execution_count": 299,
   "metadata": {},
   "outputs": [],
   "source": [
    "null_cols = [col_name for col_name in met_df.columns if met_df[col_name].isna().sum()>0 and met_df[col_name].dtypes in ['float64', 'int64']]"
   ]
  },
  {
   "cell_type": "code",
   "execution_count": 300,
   "metadata": {},
   "outputs": [
    {
     "data": {
      "text/plain": [
       "['delivery_reviews',\n",
       " 'dining_reviews',\n",
       " 'discount',\n",
       " 'review_rating',\n",
       " 'dining_rating',\n",
       " 'delivery_rating']"
      ]
     },
     "execution_count": 300,
     "metadata": {},
     "output_type": "execute_result"
    }
   ],
   "source": [
    "null_cols"
   ]
  },
  {
   "cell_type": "code",
   "execution_count": 301,
   "metadata": {},
   "outputs": [],
   "source": [
    "def avg(col):\n",
    "    return met_df[col].sum()/len(met_df[col])"
   ]
  },
  {
   "cell_type": "code",
   "execution_count": 302,
   "metadata": {},
   "outputs": [],
   "source": [
    "def isNaN(num):\n",
    "    return num != num"
   ]
  },
  {
   "cell_type": "code",
   "execution_count": 314,
   "metadata": {},
   "outputs": [
    {
     "name": "stderr",
     "output_type": "stream",
     "text": [
      "C:\\Users\\mohsh\\anaconda3\\lib\\site-packages\\ipykernel_launcher.py:8: SettingWithCopyWarning: \n",
      "A value is trying to be set on a copy of a slice from a DataFrame\n",
      "\n",
      "See the caveats in the documentation: https://pandas.pydata.org/pandas-docs/stable/user_guide/indexing.html#returning-a-view-versus-a-copy\n",
      "  \n"
     ]
    }
   ],
   "source": [
    "for col in null_cols:\n",
    "    average = avg(col)\n",
    "    for row in range(0, len(met_df[col])-5):\n",
    "        try:\n",
    "            if np.isnan(met_df[col][row]) and col != 'discount':\n",
    "                met_df[col][row] = average\n",
    "            if np.isnan(met_df[col][row]) and col == 'discount':\n",
    "                met_df[col][row] = 0\n",
    "        except ValueError:\n",
    "            print(\"Exception\",met_df[col][row])"
   ]
  },
  {
   "cell_type": "code",
   "execution_count": 315,
   "metadata": {},
   "outputs": [
    {
     "name": "stdout",
     "output_type": "stream",
     "text": [
      "book_table                     0\n",
      "can_order_via_zomato           0\n",
      "cost_for_two                   0\n",
      "delivery_reviews               0\n",
      "dining_reviews                 1\n",
      "discount                       3\n",
      "has_menu_available             0\n",
      "review_rating                  0\n",
      "reviews                     8133\n",
      "dining_rating                  0\n",
      "delivery_rating                1\n",
      "rest_type_American             0\n",
      "rest_type_Arabian              0\n",
      "rest_type_Asian                0\n",
      "rest_type_Assamese             0\n",
      "rest_type_Awadhi               0\n",
      "rest_type_BBQ                  0\n",
      "rest_type_Bakery               0\n",
      "rest_type_Bar                  0\n",
      "rest_type_Bengali              0\n",
      "rest_type_Beverage Shop        0\n",
      "rest_type_Beverages            0\n",
      "rest_type_Bhojanalya           0\n",
      "rest_type_Bihari               0\n",
      "rest_type_Biryani              0\n",
      "rest_type_Burger               0\n",
      "rest_type_Cafe                 0\n",
      "rest_type_Café                 0\n",
      "rest_type_Casual Dining        0\n",
      "rest_type_Chinese              0\n",
      "rest_type_Club                 0\n",
      "rest_type_Cocktail Bar         0\n",
      "rest_type_Coffee               0\n",
      "rest_type_Confectionery        0\n",
      "rest_type_Continental          0\n",
      "rest_type_Cuisine Varies       0\n",
      "rest_type_Dessert Parlor       0\n",
      "rest_type_Desserts             0\n",
      "rest_type_Dhaba                0\n",
      "rest_type_Diner                0\n",
      "rest_type_European             0\n",
      "rest_type_Fast Food            0\n",
      "rest_type_Fine Dining          0\n",
      "rest_type_Food Court           0\n",
      "rest_type_Food Truck           0\n",
      "rest_type_Goan                 0\n",
      "rest_type_Gujarati             0\n",
      "rest_type_Healthy Food         0\n",
      "rest_type_Hot dogs             0\n",
      "rest_type_Hyderabadi           0\n",
      "rest_type_Ice Cream            0\n",
      "rest_type_Indonesian           0\n",
      "rest_type_Irani Cafe           0\n",
      "rest_type_Iranian              0\n",
      "rest_type_Italian              0\n",
      "rest_type_Japanese             0\n",
      "rest_type_Juices               0\n",
      "rest_type_Kashmiri             0\n",
      "rest_type_Kebab                0\n",
      "rest_type_Kerala               0\n",
      "rest_type_Kiosk                0\n",
      "rest_type_Konkan               0\n",
      "rest_type_Korean               0\n",
      "rest_type_Lebanese             0\n",
      "rest_type_Lounge               0\n",
      "rest_type_Maharashtrian        0\n",
      "rest_type_Malwani              0\n",
      "rest_type_Mangalorean          0\n",
      "rest_type_Meat Shop            0\n",
      "rest_type_Mediterranean        0\n",
      "rest_type_Mexican              0\n",
      "rest_type_Microbrewery         0\n",
      "rest_type_Middle Eastern       0\n",
      "rest_type_Mithai               0\n",
      "rest_type_Modern Indian        0\n",
      "rest_type_Momos                0\n",
      "rest_type_Mughlai              0\n",
      "rest_type_Naga                 0\n",
      "rest_type_North Eastern        0\n",
      "rest_type_North Indian         0\n",
      "rest_type_Odia                 0\n",
      "rest_type_Paan                 0\n",
      "rest_type_Paan Shop            0\n",
      "rest_type_Parsi                0\n",
      "rest_type_Pizza                0\n",
      "rest_type_Pub                  0\n",
      "rest_type_Quick Bites          0\n",
      "rest_type_Rajasthani           0\n",
      "rest_type_Raw Meats            0\n",
      "rest_type_Roast Chicken        0\n",
      "rest_type_Rolls                0\n",
      "rest_type_Salad                0\n",
      "rest_type_Sandwich             0\n",
      "rest_type_Seafood              0\n",
      "rest_type_Shack                0\n",
      "rest_type_Sindhi               0\n",
      "rest_type_Snack Bar            0\n",
      "rest_type_South Indian         0\n",
      "rest_type_Street Food          0\n",
      "rest_type_Sushi                0\n",
      "rest_type_Sweet Shop           0\n",
      "rest_type_Tea                  0\n",
      "rest_type_Thai                 0\n",
      "rest_type_Tibetan              0\n",
      "rest_type_Wraps                0\n",
      "dtype: int64\n"
     ]
    }
   ],
   "source": [
    "print_full(met_df.isna().sum())"
   ]
  },
  {
   "cell_type": "markdown",
   "metadata": {},
   "source": [
    "# review"
   ]
  },
  {
   "cell_type": "code",
   "execution_count": 305,
   "metadata": {},
   "outputs": [],
   "source": [
    "#temp = met_df['reviews']"
   ]
  },
  {
   "cell_type": "code",
   "execution_count": 306,
   "metadata": {},
   "outputs": [
    {
     "data": {
      "text/plain": [
       "\"from sklearn.feature_extraction.text import TfidfVectorizer\\ntfv = TfidfVectorizer()\\ntemp = list(tfv.fit_transform(met_df['reviews']).toarray())\""
      ]
     },
     "execution_count": 306,
     "metadata": {},
     "output_type": "execute_result"
    }
   ],
   "source": [
    "'''from sklearn.feature_extraction.text import TfidfVectorizer\n",
    "tfv = TfidfVectorizer()\n",
    "temp = list(tfv.fit_transform(met_df['reviews']).toarray())'''"
   ]
  },
  {
   "cell_type": "code",
   "execution_count": 307,
   "metadata": {},
   "outputs": [
    {
     "data": {
      "text/plain": [
       "\"from sklearn.feature_extraction.text import CountVectorizer\\nctv = CountVectorizer()\\ntemp = ctv.fit_transform(met_df['reviews'])\""
      ]
     },
     "execution_count": 307,
     "metadata": {},
     "output_type": "execute_result"
    }
   ],
   "source": [
    "'''from sklearn.feature_extraction.text import CountVectorizer\n",
    "ctv = CountVectorizer()\n",
    "temp = ctv.fit_transform(met_df['reviews'])'''"
   ]
  },
  {
   "cell_type": "code",
   "execution_count": 308,
   "metadata": {},
   "outputs": [
    {
     "data": {
      "text/plain": [
       "'temp.toarray()'"
      ]
     },
     "execution_count": 308,
     "metadata": {},
     "output_type": "execute_result"
    }
   ],
   "source": [
    "'''temp.toarray()'''"
   ]
  },
  {
   "cell_type": "code",
   "execution_count": 309,
   "metadata": {
    "scrolled": true
   },
   "outputs": [
    {
     "data": {
      "text/plain": [
       "\"from sklearn.feature_extraction.text import HashingVectorizer\\nvectorizer = HashingVectorizer(n_features=20)\\nvector = vectorizer.transform(met_df['reviews'])\\nprint(vector)\""
      ]
     },
     "execution_count": 309,
     "metadata": {},
     "output_type": "execute_result"
    }
   ],
   "source": [
    "'''from sklearn.feature_extraction.text import HashingVectorizer\n",
    "vectorizer = HashingVectorizer(n_features=20)\n",
    "vector = vectorizer.transform(met_df['reviews'])\n",
    "print(vector)'''"
   ]
  },
  {
   "cell_type": "markdown",
   "metadata": {},
   "source": [
    "# Modeling"
   ]
  },
  {
   "cell_type": "code",
   "execution_count": 319,
   "metadata": {},
   "outputs": [],
   "source": [
    "dataset = met_df.drop('reviews', axis=1)"
   ]
  },
  {
   "cell_type": "code",
   "execution_count": 320,
   "metadata": {},
   "outputs": [
    {
     "data": {
      "text/html": [
       "<div>\n",
       "<style scoped>\n",
       "    .dataframe tbody tr th:only-of-type {\n",
       "        vertical-align: middle;\n",
       "    }\n",
       "\n",
       "    .dataframe tbody tr th {\n",
       "        vertical-align: top;\n",
       "    }\n",
       "\n",
       "    .dataframe thead th {\n",
       "        text-align: right;\n",
       "    }\n",
       "</style>\n",
       "<table border=\"1\" class=\"dataframe\">\n",
       "  <thead>\n",
       "    <tr style=\"text-align: right;\">\n",
       "      <th></th>\n",
       "      <th>book_table</th>\n",
       "      <th>can_order_via_zomato</th>\n",
       "      <th>cost_for_two</th>\n",
       "      <th>delivery_reviews</th>\n",
       "      <th>dining_reviews</th>\n",
       "      <th>discount</th>\n",
       "      <th>has_menu_available</th>\n",
       "      <th>review_rating</th>\n",
       "      <th>dining_rating</th>\n",
       "      <th>delivery_rating</th>\n",
       "      <th>...</th>\n",
       "      <th>rest_type_Sindhi</th>\n",
       "      <th>rest_type_Snack Bar</th>\n",
       "      <th>rest_type_South Indian</th>\n",
       "      <th>rest_type_Street Food</th>\n",
       "      <th>rest_type_Sushi</th>\n",
       "      <th>rest_type_Sweet Shop</th>\n",
       "      <th>rest_type_Tea</th>\n",
       "      <th>rest_type_Thai</th>\n",
       "      <th>rest_type_Tibetan</th>\n",
       "      <th>rest_type_Wraps</th>\n",
       "    </tr>\n",
       "  </thead>\n",
       "  <tbody>\n",
       "    <tr>\n",
       "      <th>0</th>\n",
       "      <td>0</td>\n",
       "      <td>1</td>\n",
       "      <td>600.0</td>\n",
       "      <td>875.0</td>\n",
       "      <td>3524.0</td>\n",
       "      <td>0.0</td>\n",
       "      <td>1</td>\n",
       "      <td>3.4</td>\n",
       "      <td>4.1</td>\n",
       "      <td>3.9</td>\n",
       "      <td>...</td>\n",
       "      <td>0</td>\n",
       "      <td>0</td>\n",
       "      <td>0</td>\n",
       "      <td>0</td>\n",
       "      <td>0</td>\n",
       "      <td>0</td>\n",
       "      <td>0</td>\n",
       "      <td>0</td>\n",
       "      <td>0</td>\n",
       "      <td>0</td>\n",
       "    </tr>\n",
       "    <tr>\n",
       "      <th>1</th>\n",
       "      <td>0</td>\n",
       "      <td>1</td>\n",
       "      <td>300.0</td>\n",
       "      <td>9042.0</td>\n",
       "      <td>835.0</td>\n",
       "      <td>0.0</td>\n",
       "      <td>1</td>\n",
       "      <td>3.8</td>\n",
       "      <td>4.1</td>\n",
       "      <td>4.4</td>\n",
       "      <td>...</td>\n",
       "      <td>0</td>\n",
       "      <td>0</td>\n",
       "      <td>0</td>\n",
       "      <td>0</td>\n",
       "      <td>0</td>\n",
       "      <td>1</td>\n",
       "      <td>0</td>\n",
       "      <td>0</td>\n",
       "      <td>0</td>\n",
       "      <td>0</td>\n",
       "    </tr>\n",
       "    <tr>\n",
       "      <th>2</th>\n",
       "      <td>0</td>\n",
       "      <td>1</td>\n",
       "      <td>300.0</td>\n",
       "      <td>209.0</td>\n",
       "      <td>4044.0</td>\n",
       "      <td>0.0</td>\n",
       "      <td>1</td>\n",
       "      <td>4.6</td>\n",
       "      <td>4.5</td>\n",
       "      <td>4.1</td>\n",
       "      <td>...</td>\n",
       "      <td>0</td>\n",
       "      <td>0</td>\n",
       "      <td>0</td>\n",
       "      <td>0</td>\n",
       "      <td>0</td>\n",
       "      <td>0</td>\n",
       "      <td>0</td>\n",
       "      <td>0</td>\n",
       "      <td>0</td>\n",
       "      <td>0</td>\n",
       "    </tr>\n",
       "    <tr>\n",
       "      <th>3</th>\n",
       "      <td>0</td>\n",
       "      <td>1</td>\n",
       "      <td>900.0</td>\n",
       "      <td>3428.0</td>\n",
       "      <td>419.0</td>\n",
       "      <td>0.0</td>\n",
       "      <td>1</td>\n",
       "      <td>4.4</td>\n",
       "      <td>4.2</td>\n",
       "      <td>4.5</td>\n",
       "      <td>...</td>\n",
       "      <td>0</td>\n",
       "      <td>0</td>\n",
       "      <td>0</td>\n",
       "      <td>0</td>\n",
       "      <td>0</td>\n",
       "      <td>0</td>\n",
       "      <td>0</td>\n",
       "      <td>0</td>\n",
       "      <td>0</td>\n",
       "      <td>0</td>\n",
       "    </tr>\n",
       "    <tr>\n",
       "      <th>4</th>\n",
       "      <td>0</td>\n",
       "      <td>0</td>\n",
       "      <td>700.0</td>\n",
       "      <td>8871.0</td>\n",
       "      <td>2717.0</td>\n",
       "      <td>0.0</td>\n",
       "      <td>1</td>\n",
       "      <td>1.8</td>\n",
       "      <td>4.2</td>\n",
       "      <td>3.8</td>\n",
       "      <td>...</td>\n",
       "      <td>0</td>\n",
       "      <td>0</td>\n",
       "      <td>0</td>\n",
       "      <td>0</td>\n",
       "      <td>0</td>\n",
       "      <td>0</td>\n",
       "      <td>0</td>\n",
       "      <td>0</td>\n",
       "      <td>0</td>\n",
       "      <td>0</td>\n",
       "    </tr>\n",
       "    <tr>\n",
       "      <th>...</th>\n",
       "      <td>...</td>\n",
       "      <td>...</td>\n",
       "      <td>...</td>\n",
       "      <td>...</td>\n",
       "      <td>...</td>\n",
       "      <td>...</td>\n",
       "      <td>...</td>\n",
       "      <td>...</td>\n",
       "      <td>...</td>\n",
       "      <td>...</td>\n",
       "      <td>...</td>\n",
       "      <td>...</td>\n",
       "      <td>...</td>\n",
       "      <td>...</td>\n",
       "      <td>...</td>\n",
       "      <td>...</td>\n",
       "      <td>...</td>\n",
       "      <td>...</td>\n",
       "      <td>...</td>\n",
       "      <td>...</td>\n",
       "      <td>...</td>\n",
       "    </tr>\n",
       "    <tr>\n",
       "      <th>15432</th>\n",
       "      <td>0</td>\n",
       "      <td>1</td>\n",
       "      <td>900.0</td>\n",
       "      <td>252.0</td>\n",
       "      <td>1933.0</td>\n",
       "      <td>NaN</td>\n",
       "      <td>1</td>\n",
       "      <td>4.6</td>\n",
       "      <td>4.0</td>\n",
       "      <td>3.6</td>\n",
       "      <td>...</td>\n",
       "      <td>0</td>\n",
       "      <td>0</td>\n",
       "      <td>0</td>\n",
       "      <td>0</td>\n",
       "      <td>0</td>\n",
       "      <td>0</td>\n",
       "      <td>0</td>\n",
       "      <td>0</td>\n",
       "      <td>0</td>\n",
       "      <td>0</td>\n",
       "    </tr>\n",
       "    <tr>\n",
       "      <th>15433</th>\n",
       "      <td>0</td>\n",
       "      <td>1</td>\n",
       "      <td>700.0</td>\n",
       "      <td>165.0</td>\n",
       "      <td>1126.0</td>\n",
       "      <td>20.0</td>\n",
       "      <td>1</td>\n",
       "      <td>1.4</td>\n",
       "      <td>4.2</td>\n",
       "      <td>3.4</td>\n",
       "      <td>...</td>\n",
       "      <td>0</td>\n",
       "      <td>0</td>\n",
       "      <td>0</td>\n",
       "      <td>0</td>\n",
       "      <td>0</td>\n",
       "      <td>0</td>\n",
       "      <td>0</td>\n",
       "      <td>0</td>\n",
       "      <td>0</td>\n",
       "      <td>0</td>\n",
       "    </tr>\n",
       "    <tr>\n",
       "      <th>15434</th>\n",
       "      <td>0</td>\n",
       "      <td>1</td>\n",
       "      <td>200.0</td>\n",
       "      <td>8270.0</td>\n",
       "      <td>481.0</td>\n",
       "      <td>NaN</td>\n",
       "      <td>1</td>\n",
       "      <td>1.8</td>\n",
       "      <td>4.0</td>\n",
       "      <td>3.9</td>\n",
       "      <td>...</td>\n",
       "      <td>0</td>\n",
       "      <td>0</td>\n",
       "      <td>0</td>\n",
       "      <td>0</td>\n",
       "      <td>0</td>\n",
       "      <td>1</td>\n",
       "      <td>0</td>\n",
       "      <td>0</td>\n",
       "      <td>0</td>\n",
       "      <td>0</td>\n",
       "    </tr>\n",
       "    <tr>\n",
       "      <th>15435</th>\n",
       "      <td>0</td>\n",
       "      <td>1</td>\n",
       "      <td>600.0</td>\n",
       "      <td>2640.0</td>\n",
       "      <td>1345.0</td>\n",
       "      <td>NaN</td>\n",
       "      <td>1</td>\n",
       "      <td>2.6</td>\n",
       "      <td>4.3</td>\n",
       "      <td>4.0</td>\n",
       "      <td>...</td>\n",
       "      <td>0</td>\n",
       "      <td>0</td>\n",
       "      <td>0</td>\n",
       "      <td>0</td>\n",
       "      <td>0</td>\n",
       "      <td>0</td>\n",
       "      <td>0</td>\n",
       "      <td>0</td>\n",
       "      <td>0</td>\n",
       "      <td>0</td>\n",
       "    </tr>\n",
       "    <tr>\n",
       "      <th>15436</th>\n",
       "      <td>0</td>\n",
       "      <td>1</td>\n",
       "      <td>450.0</td>\n",
       "      <td>199.0</td>\n",
       "      <td>NaN</td>\n",
       "      <td>20.0</td>\n",
       "      <td>1</td>\n",
       "      <td>5.0</td>\n",
       "      <td>3.8</td>\n",
       "      <td>NaN</td>\n",
       "      <td>...</td>\n",
       "      <td>0</td>\n",
       "      <td>0</td>\n",
       "      <td>0</td>\n",
       "      <td>0</td>\n",
       "      <td>0</td>\n",
       "      <td>0</td>\n",
       "      <td>0</td>\n",
       "      <td>0</td>\n",
       "      <td>0</td>\n",
       "      <td>0</td>\n",
       "    </tr>\n",
       "  </tbody>\n",
       "</table>\n",
       "<p>15437 rows × 104 columns</p>\n",
       "</div>"
      ],
      "text/plain": [
       "       book_table  can_order_via_zomato  cost_for_two  delivery_reviews  \\\n",
       "0               0                     1         600.0             875.0   \n",
       "1               0                     1         300.0            9042.0   \n",
       "2               0                     1         300.0             209.0   \n",
       "3               0                     1         900.0            3428.0   \n",
       "4               0                     0         700.0            8871.0   \n",
       "...           ...                   ...           ...               ...   \n",
       "15432           0                     1         900.0             252.0   \n",
       "15433           0                     1         700.0             165.0   \n",
       "15434           0                     1         200.0            8270.0   \n",
       "15435           0                     1         600.0            2640.0   \n",
       "15436           0                     1         450.0             199.0   \n",
       "\n",
       "       dining_reviews  discount  has_menu_available  review_rating  \\\n",
       "0              3524.0       0.0                   1            3.4   \n",
       "1               835.0       0.0                   1            3.8   \n",
       "2              4044.0       0.0                   1            4.6   \n",
       "3               419.0       0.0                   1            4.4   \n",
       "4              2717.0       0.0                   1            1.8   \n",
       "...               ...       ...                 ...            ...   \n",
       "15432          1933.0       NaN                   1            4.6   \n",
       "15433          1126.0      20.0                   1            1.4   \n",
       "15434           481.0       NaN                   1            1.8   \n",
       "15435          1345.0       NaN                   1            2.6   \n",
       "15436             NaN      20.0                   1            5.0   \n",
       "\n",
       "       dining_rating  delivery_rating  ...  rest_type_Sindhi  \\\n",
       "0                4.1              3.9  ...                 0   \n",
       "1                4.1              4.4  ...                 0   \n",
       "2                4.5              4.1  ...                 0   \n",
       "3                4.2              4.5  ...                 0   \n",
       "4                4.2              3.8  ...                 0   \n",
       "...              ...              ...  ...               ...   \n",
       "15432            4.0              3.6  ...                 0   \n",
       "15433            4.2              3.4  ...                 0   \n",
       "15434            4.0              3.9  ...                 0   \n",
       "15435            4.3              4.0  ...                 0   \n",
       "15436            3.8              NaN  ...                 0   \n",
       "\n",
       "       rest_type_Snack Bar  rest_type_South Indian  rest_type_Street Food  \\\n",
       "0                        0                       0                      0   \n",
       "1                        0                       0                      0   \n",
       "2                        0                       0                      0   \n",
       "3                        0                       0                      0   \n",
       "4                        0                       0                      0   \n",
       "...                    ...                     ...                    ...   \n",
       "15432                    0                       0                      0   \n",
       "15433                    0                       0                      0   \n",
       "15434                    0                       0                      0   \n",
       "15435                    0                       0                      0   \n",
       "15436                    0                       0                      0   \n",
       "\n",
       "       rest_type_Sushi  rest_type_Sweet Shop  rest_type_Tea  rest_type_Thai  \\\n",
       "0                    0                     0              0               0   \n",
       "1                    0                     1              0               0   \n",
       "2                    0                     0              0               0   \n",
       "3                    0                     0              0               0   \n",
       "4                    0                     0              0               0   \n",
       "...                ...                   ...            ...             ...   \n",
       "15432                0                     0              0               0   \n",
       "15433                0                     0              0               0   \n",
       "15434                0                     1              0               0   \n",
       "15435                0                     0              0               0   \n",
       "15436                0                     0              0               0   \n",
       "\n",
       "       rest_type_Tibetan  rest_type_Wraps  \n",
       "0                      0                0  \n",
       "1                      0                0  \n",
       "2                      0                0  \n",
       "3                      0                0  \n",
       "4                      0                0  \n",
       "...                  ...              ...  \n",
       "15432                  0                0  \n",
       "15433                  0                0  \n",
       "15434                  0                0  \n",
       "15435                  0                0  \n",
       "15436                  0                0  \n",
       "\n",
       "[15437 rows x 104 columns]"
      ]
     },
     "execution_count": 320,
     "metadata": {},
     "output_type": "execute_result"
    }
   ],
   "source": [
    "dataset"
   ]
  },
  {
   "cell_type": "code",
   "execution_count": 322,
   "metadata": {},
   "outputs": [],
   "source": [
    "dataset.dropna(inplace=True)"
   ]
  },
  {
   "cell_type": "code",
   "execution_count": 323,
   "metadata": {},
   "outputs": [],
   "source": [
    "dataset.to_csv('cleaned_dataset.csv')"
   ]
  }
 ],
 "metadata": {
  "kernelspec": {
   "display_name": "Python 3",
   "language": "python",
   "name": "python3"
  },
  "language_info": {
   "codemirror_mode": {
    "name": "ipython",
    "version": 3
   },
   "file_extension": ".py",
   "mimetype": "text/x-python",
   "name": "python",
   "nbconvert_exporter": "python",
   "pygments_lexer": "ipython3",
   "version": "3.7.6"
  }
 },
 "nbformat": 4,
 "nbformat_minor": 4
}
